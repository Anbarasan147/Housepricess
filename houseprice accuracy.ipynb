{
 "cells": [
  {
   "cell_type": "code",
   "execution_count": null,
   "id": "edcab39d-d0b4-4d6b-a783-c69f0d19e38a",
   "metadata": {},
   "outputs": [],
   "source": []
  }
 ],
 "metadata": {
  "kernelspec": {
   "display_name": "",
   "name": ""
  },
  "language_info": {
   "name": ""
  }
 },
 "nbformat": 4,
 "nbformat_minor": 5
}
